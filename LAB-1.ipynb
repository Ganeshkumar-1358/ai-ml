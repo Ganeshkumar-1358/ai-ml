{
  "nbformat": 4,
  "nbformat_minor": 0,
  "metadata": {
    "colab": {
      "provenance": [],
      "authorship_tag": "ABX9TyP4Bl/0dbptHQVlHZtYf/eY",
      "include_colab_link": true
    },
    "kernelspec": {
      "name": "python3",
      "display_name": "Python 3"
    },
    "language_info": {
      "name": "python"
    }
  },
  "cells": [
    {
      "cell_type": "markdown",
      "metadata": {
        "id": "view-in-github",
        "colab_type": "text"
      },
      "source": [
        "<a href=\"https://colab.research.google.com/github/Ganeshkumar-1358/ai-ml/blob/main/part1.ipynb\" target=\"_parent\"><img src=\"https://colab.research.google.com/assets/colab-badge.svg\" alt=\"Open In Colab\"/></a>"
      ]
    },
    {
      "cell_type": "code",
      "execution_count": null,
      "metadata": {
        "colab": {
          "base_uri": "https://localhost:8080/"
        },
        "id": "_sz_i2pZkUmq",
        "outputId": "72816237-c600-49c7-ec01-ffa3419aefb1"
      },
      "outputs": [
        {
          "output_type": "stream",
          "name": "stdout",
          "text": [
            "Enter a number: 22\n",
            "[1, 2, 3, 4, 5, 22]\n",
            "Enter a number: 33\n",
            "[ 1  2  3  4  5 33]\n",
            "Type of string_variable: <class 'str'>\n",
            "Type of variable: <class 'int'>\n",
            "Type of float: <class 'float'>\n",
            "Type of list: <class 'list'>\n",
            "Type of array: <class 'numpy.ndarray'>\n",
            "Is A a string? True\n",
            "Is variable a string? False\n",
            "Is float a string? False\n",
            "Is list a string? False\n",
            "Is array a string? False\n",
            "Enter a number: 4\n",
            "Enter a number: 4\n",
            "4 * 4 = 16\n",
            "4 / 4 = 1.0\n",
            "4 ** 4 = 256\n",
            "Array multiplication:\n",
            "[2 4 6] * [1 2 3] = [ 2  8 18]\n",
            "Array division:\n",
            "[2 4 6] / [1 2 3] = [2. 2. 2.]\n",
            "Array exponentiation:\n",
            "[2 4 6] ** [1 2 3] = [  2  16 216]\n",
            "sin(2.0) = 0.9092974268256817\n",
            "log(2.0) = 0.6931471805599453\n",
            "log2(2.0) = 1.0\n",
            "exp(2.0) = 7.38905609893065\n",
            "sin([1 2 3 4]) = [ 0.84147098  0.90929743  0.14112001 -0.7568025 ]\n",
            "log([1 2 3 4]) = [0.         0.69314718 1.09861229 1.38629436]\n",
            "log2([1 2 3 4]) = [0.        1.        1.5849625 2.       ]\n",
            "exp([1 2 3 4]) = [ 2.71828183  7.3890561  20.08553692 54.59815003]\n"
          ]
        }
      ],
      "source": [
        "#inserting element in list\n",
        "import numpy as np\n",
        "a = int(input(\"Enter a number: \"))\n",
        "b = [1, 2, 3, 4, 5]\n",
        "b.append(a)\n",
        "print(b)\n",
        "#inserting element in array\n",
        "import numpy as np\n",
        "a = int(input(\"Enter a number: \"))\n",
        "b = np.array([1, 2, 3, 4, 5])\n",
        "b_list = b.tolist()\n",
        "b_list.append(a)\n",
        "b = np.array(b_list)\n",
        "print(b)\n",
        "#type\n",
        "A = \"Hello, world!\"\n",
        "variable = 42\n",
        "float= 3.14\n",
        "list = [1, 2, 3]\n",
        "array = np.array([1, 2, 3])\n",
        "print(\"Type of string_variable:\", type(A))\n",
        "print(\"Type of variable:\", type(variable))\n",
        "print(\"Type of float:\", type(float_variable))\n",
        "print(\"Type of list:\", type(list_variable))\n",
        "print(\"Type of array:\", type(array_variable))\n",
        "# Check if each variable is a string\n",
        "print(\"Is A a string?\", isinstance(A, str))\n",
        "print(\"Is variable a string?\", isinstance(variable, str))\n",
        "print(\"Is float a string?\", isinstance(float, str))\n",
        "print(\"Is list a string?\", isinstance(list, str))\n",
        "print(\"Is array a string?\", isinstance(array, str))\n",
        "# Scalar values\n",
        "a = int(input(\"Enter a number: \"))\n",
        "b = int(input(\"Enter a number: \"))\n",
        "mul_result = a * b\n",
        "print(f\"{a} * {b} = {mul_result}\")\n",
        "div_result = a / b\n",
        "print(f\"{a} / {b} = {div_result}\")\n",
        "pow_result = a ** b\n",
        "print(f\"{a} ** {b} = {pow_result}\")\n",
        "#Array\n",
        "import numpy as np\n",
        "arr1 = np.array([2, 4, 6])\n",
        "arr2 = np.array([1, 2, 3])\n",
        "mul_result_arr = arr1 * arr2\n",
        "print(f\"Array multiplication:\\n{arr1} * {arr2} = {mul_result_arr}\")\n",
        "div_result_arr = arr1 / arr2\n",
        "print(f\"Array division:\\n{arr1} / {arr2} = {div_result_arr}\")\n",
        "pow_result_arr = arr1 ** arr2\n",
        "print(f\"Array exponentiation:\\n{arr1} ** {arr2} = {pow_result_arr}\")\n",
        "#implement\n",
        "import numpy as np\n",
        "x = 2.0\n",
        "sin_x = np.sin(x)\n",
        "print(f\"sin({x}) = {sin_x}\")\n",
        "log_x = np.log(x)\n",
        "print(f\"log({x}) = {log_x}\")\n",
        "log2_x = np.log2(x)\n",
        "print(f\"log2({x}) = {log2_x}\")\n",
        "exp_x = np.exp(x)\n",
        "print(f\"exp({x}) = {exp_x}\")\n",
        "import numpy as np\n",
        "arr = np.array([1, 2, 3, 4])\n",
        "sin_arr = np.sin(arr)\n",
        "print(f\"sin({arr}) = {sin_arr}\")\n",
        "log_arr = np.log(arr)\n",
        "print(f\"log({arr}) = {log_arr}\")\n",
        "log2_arr = np.log2(arr)\n",
        "print(f\"log2({arr}) = {log2_arr}\")\n",
        "exp_arr = np.exp(arr)\n",
        "print(f\"exp({arr}) = {exp_arr}\")\n"
      ]
    }
  ]
}
